{
 "cells": [
  {
   "cell_type": "code",
   "execution_count": 1,
   "id": "b05aa9a1",
   "metadata": {},
   "outputs": [],
   "source": [
    "import numpy as np\n",
    "import pandas as pd\n",
    "\n",
    "from sklearn.datasets import fetch_openml\n",
    "from sklearn.model_selection import train_test_split\n",
    "from sklearn.preprocessing import StandardScaler, OneHotEncoder\n",
    "from sklearn.compose import ColumnTransformer\n",
    "from sklearn.pipeline import Pipeline\n",
    "from sklearn.neighbors import KNeighborsClassifier\n",
    "from sklearn.metrics import accuracy_score, confusion_matrix\n",
    "\n",
    "RANDOM_STATE = 42\n",
    "np.random.seed(RANDOM_STATE)\n"
   ]
  },
  {
   "cell_type": "code",
   "execution_count": 2,
   "id": "6569d5df",
   "metadata": {},
   "outputs": [
    {
     "name": "stdout",
     "output_type": "stream",
     "text": [
      "Shape after dropping NaNs: (1000, 20)\n",
      "Target distribution:\n",
      " class\n",
      "good    700\n",
      "bad     300\n",
      "Name: count, dtype: int64\n"
     ]
    }
   ],
   "source": [
    "# Load German Credit from OpenML (dataset id: 31)\n",
    "ds = fetch_openml(name=\"credit-g\", version=1, as_frame=True)\n",
    "df = ds.frame.copy()\n",
    "\n",
    "# Separate target and features\n",
    "target_col = \"class\"\n",
    "assert target_col in df.columns, \"Expected 'class' column as target.\"\n",
    "y = df[target_col]\n",
    "X = df.drop(columns=[target_col])\n",
    "\n",
    "# Drop missing values to satisfy rubric (usually none, but do it explicitly)\n",
    "full = pd.concat([X, y], axis=1).dropna()\n",
    "X = full.drop(columns=[target_col])\n",
    "y = full[target_col]\n",
    "\n",
    "print(\"Shape after dropping NaNs:\", X.shape)\n",
    "print(\"Target distribution:\\n\", y.value_counts())\n"
   ]
  },
  {
   "cell_type": "code",
   "execution_count": 3,
   "id": "005b8278",
   "metadata": {},
   "outputs": [
    {
     "name": "stdout",
     "output_type": "stream",
     "text": [
      "Numeric features used: ['duration', 'credit_amount', 'installment_commitment', 'residence_since', 'age', 'existing_credits', 'num_dependents']\n",
      "Categorical features used: ['checking_status', 'credit_history', 'purpose', 'savings_status', 'employment', 'personal_status', 'other_parties', 'property_magnitude', 'other_payment_plans', 'housing', 'job', 'own_telephone', 'foreign_worker']\n",
      "Final feature matrix shape: (1000, 20)\n"
     ]
    }
   ],
   "source": [
    "# Known numeric columns in credit-g\n",
    "numeric_features = [\n",
    "    \"duration\",\n",
    "    \"credit_amount\",\n",
    "    \"installment_commitment\",\n",
    "    \"residence_since\",\n",
    "    \"age\",\n",
    "    \"existing_credits\",\n",
    "    \"num_dependents\",\n",
    "]\n",
    "\n",
    "# Known categorical columns in credit-g\n",
    "categorical_features = [\n",
    "    \"checking_status\",\n",
    "    \"credit_history\",\n",
    "    \"purpose\",\n",
    "    \"savings_status\",\n",
    "    \"employment\",\n",
    "    \"personal_status\",\n",
    "    \"other_parties\",          # (aka other_debtors in some versions)\n",
    "    \"property_magnitude\",\n",
    "    \"other_payment_plans\",\n",
    "    \"housing\",\n",
    "    \"job\",\n",
    "    \"own_telephone\",\n",
    "    \"foreign_worker\",\n",
    "]\n",
    "\n",
    "# Keep only columns that exist (defensive against minor schema variants)\n",
    "numeric_features = [c for c in numeric_features if c in X.columns]\n",
    "categorical_features = [c for c in categorical_features if c in X.columns]\n",
    "\n",
    "assert len(numeric_features) >= 4, f\"Need ≥4 numeric features, got {len(numeric_features)}\"\n",
    "assert len(categorical_features) >= 3, f\"Need ≥3 categorical features, got {len(categorical_features)}\"\n",
    "\n",
    "X = X[numeric_features + categorical_features]\n",
    "\n",
    "print(\"Numeric features used:\", numeric_features)\n",
    "print(\"Categorical features used:\", categorical_features)\n",
    "print(\"Final feature matrix shape:\", X.shape)\n"
   ]
  },
  {
   "cell_type": "code",
   "execution_count": 4,
   "id": "5509aa9e",
   "metadata": {},
   "outputs": [
    {
     "name": "stdout",
     "output_type": "stream",
     "text": [
      "Shapes -> Train: (800, 20), Val: (100, 20), Test: (100, 20)\n"
     ]
    }
   ],
   "source": [
    "# Preprocessing: scale numeric, one-hot categorical\n",
    "preprocess = ColumnTransformer(\n",
    "    transformers=[\n",
    "        (\"num\", StandardScaler(), numeric_features),\n",
    "        (\"cat\", OneHotEncoder(handle_unknown=\"ignore\"), categorical_features),\n",
    "    ]\n",
    ")\n",
    "\n",
    "# 80% train, 20% temp (to be split into val/test)\n",
    "X_train, X_temp, y_train, y_temp = train_test_split(\n",
    "    X, y, test_size=0.20, random_state=RANDOM_STATE, stratify=y\n",
    ")\n",
    "\n",
    "# 10% val, 10% test (split the 20% temp in half)\n",
    "X_val, X_test, y_val, y_test = train_test_split(\n",
    "    X_temp, y_temp, test_size=0.50, random_state=RANDOM_STATE, stratify=y_temp\n",
    ")\n",
    "\n",
    "print(f\"Shapes -> Train: {X_train.shape}, Val: {X_val.shape}, Test: {X_test.shape}\")\n"
   ]
  },
  {
   "cell_type": "code",
   "execution_count": 5,
   "id": "cf6a754f",
   "metadata": {},
   "outputs": [
    {
     "name": "stdout",
     "output_type": "stream",
     "text": [
      "Validation Accuracy by k:\n",
      "  k=1  -> val_accuracy=0.7000\n",
      "  k=3  -> val_accuracy=0.6800\n",
      "  k=5  -> val_accuracy=0.7100\n",
      "  k=7  -> val_accuracy=0.7000\n",
      "  k=9  -> val_accuracy=0.6800\n",
      "  k=11 -> val_accuracy=0.7000\n",
      "  k=13 -> val_accuracy=0.7000\n",
      "  k=15 -> val_accuracy=0.7100\n",
      "  k=17 -> val_accuracy=0.7100\n",
      "  k=19 -> val_accuracy=0.6700\n",
      "  k=21 -> val_accuracy=0.7000\n",
      "\n",
      "Best k (validation): k=5 with val_accuracy=0.7100\n"
     ]
    }
   ],
   "source": [
    "k_values = [1, 3, 5, 7, 9, 11, 13, 15, 17, 19, 21]\n",
    "val_scores = []\n",
    "\n",
    "for k in k_values:\n",
    "    pipe = Pipeline(steps=[\n",
    "        (\"preprocess\", preprocess),\n",
    "        (\"clf\", KNeighborsClassifier(n_neighbors=k))\n",
    "    ])\n",
    "    pipe.fit(X_train, y_train)\n",
    "    pred_val = pipe.predict(X_val)\n",
    "    acc_val = accuracy_score(y_val, pred_val)\n",
    "    val_scores.append(acc_val)\n",
    "\n",
    "print(\"Validation Accuracy by k:\")\n",
    "for k, score in zip(k_values, val_scores):\n",
    "    print(f\"  k={k:<2d} -> val_accuracy={score:.4f}\")\n",
    "\n",
    "best_idx = int(np.argmax(val_scores))\n",
    "best_k = k_values[best_idx]\n",
    "best_val_acc = val_scores[best_idx]\n",
    "print(f\"\\nBest k (validation): k={best_k} with val_accuracy={best_val_acc:.4f}\")\n"
   ]
  },
  {
   "cell_type": "code",
   "execution_count": 6,
   "id": "a16da679",
   "metadata": {},
   "outputs": [
    {
     "name": "stdout",
     "output_type": "stream",
     "text": [
      "Final Test Accuracy (k=5): 0.7400\n"
     ]
    }
   ],
   "source": [
    "# Refit on TRAIN+VAL\n",
    "X_trainval = pd.concat([X_train, X_val], axis=0)\n",
    "y_trainval = pd.concat([y_train, y_val], axis=0)\n",
    "\n",
    "best_model = Pipeline(steps=[\n",
    "    (\"preprocess\", preprocess),\n",
    "    (\"clf\", KNeighborsClassifier(n_neighbors=best_k))\n",
    "])\n",
    "best_model.fit(X_trainval, y_trainval)\n",
    "\n",
    "# Evaluate on TEST\n",
    "y_pred_test = best_model.predict(X_test)\n",
    "test_acc = accuracy_score(y_test, y_pred_test)\n",
    "print(f\"Final Test Accuracy (k={best_k}): {test_acc:.4f}\")\n"
   ]
  },
  {
   "cell_type": "code",
   "execution_count": 7,
   "id": "de4cbdfc",
   "metadata": {},
   "outputs": [
    {
     "name": "stdout",
     "output_type": "stream",
     "text": [
      "Confusion Matrix (rows = true, cols = pred):\n"
     ]
    },
    {
     "data": {
      "text/html": [
       "<div>\n",
       "<style scoped>\n",
       "    .dataframe tbody tr th:only-of-type {\n",
       "        vertical-align: middle;\n",
       "    }\n",
       "\n",
       "    .dataframe tbody tr th {\n",
       "        vertical-align: top;\n",
       "    }\n",
       "\n",
       "    .dataframe thead th {\n",
       "        text-align: right;\n",
       "    }\n",
       "</style>\n",
       "<table border=\"1\" class=\"dataframe\">\n",
       "  <thead>\n",
       "    <tr style=\"text-align: right;\">\n",
       "      <th></th>\n",
       "      <th>pred_bad</th>\n",
       "      <th>pred_good</th>\n",
       "    </tr>\n",
       "  </thead>\n",
       "  <tbody>\n",
       "    <tr>\n",
       "      <th>true_bad</th>\n",
       "      <td>8</td>\n",
       "      <td>22</td>\n",
       "    </tr>\n",
       "    <tr>\n",
       "      <th>true_good</th>\n",
       "      <td>4</td>\n",
       "      <td>66</td>\n",
       "    </tr>\n",
       "  </tbody>\n",
       "</table>\n",
       "</div>"
      ],
      "text/plain": [
       "           pred_bad  pred_good\n",
       "true_bad          8         22\n",
       "true_good         4         66"
      ]
     },
     "execution_count": 7,
     "metadata": {},
     "output_type": "execute_result"
    }
   ],
   "source": [
    "labels_order = sorted(y.unique())\n",
    "cm = confusion_matrix(y_test, y_pred_test, labels=labels_order)\n",
    "cm_df = pd.DataFrame(cm,\n",
    "                     index=[f\"true_{l}\" for l in labels_order],\n",
    "                     columns=[f\"pred_{l}\" for l in labels_order])\n",
    "print(\"Confusion Matrix (rows = true, cols = pred):\")\n",
    "cm_df\n"
   ]
  }
 ],
 "metadata": {
  "kernelspec": {
   "display_name": ".venv (3.12.7)",
   "language": "python",
   "name": "python3"
  },
  "language_info": {
   "codemirror_mode": {
    "name": "ipython",
    "version": 3
   },
   "file_extension": ".py",
   "mimetype": "text/x-python",
   "name": "python",
   "nbconvert_exporter": "python",
   "pygments_lexer": "ipython3",
   "version": "3.12.7"
  }
 },
 "nbformat": 4,
 "nbformat_minor": 5
}
